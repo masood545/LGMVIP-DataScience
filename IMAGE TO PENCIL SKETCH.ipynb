{
 "cells": [
  {
   "cell_type": "markdown",
   "id": "ef0aae17",
   "metadata": {},
   "source": [
    "## IMPORT LIBRARIES"
   ]
  },
  {
   "cell_type": "code",
   "execution_count": 80,
   "id": "4564a4bc",
   "metadata": {},
   "outputs": [],
   "source": [
    "import cv2\n",
    "\n",
    "import numpy as np\n",
    "\n",
    "import matplotlib.pyplot as plt\n",
    "\n",
    "%matplotlib inline\n"
   ]
  },
  {
   "cell_type": "markdown",
   "id": "570d637a",
   "metadata": {},
   "source": [
    "## READING THE IMAGE"
   ]
  },
  {
   "cell_type": "code",
   "execution_count": 102,
   "id": "bb246c11",
   "metadata": {},
   "outputs": [],
   "source": [
    "i=cv2.imread('E:/LETS_GROW_MORE_TASKS/kohli.jpg')\n",
    "\n",
    "cv2.imshow('kohli',i)\n",
    "\n",
    "cv2.waitKey(0)\n",
    "\n",
    "cv2.destroyAllWindows()\n"
   ]
  },
  {
   "cell_type": "markdown",
   "id": "a6290417",
   "metadata": {},
   "source": [
    "## CONVERTING TO GRAY SCALE "
   ]
  },
  {
   "cell_type": "code",
   "execution_count": 103,
   "id": "321c850f",
   "metadata": {},
   "outputs": [],
   "source": [
    "gray_img=cv2.cvtColor(i,cv2.COLOR_BGR2GRAY)\n",
    "\n",
    "cv2.imshow('kohli',gray_img)\n",
    "\n",
    "cv2.waitKey(0)\n",
    "\n",
    "cv2.destroyAllWindows()"
   ]
  },
  {
   "cell_type": "markdown",
   "id": "3c632ecd",
   "metadata": {},
   "source": [
    "## INVERTING THE IMAGE"
   ]
  },
  {
   "cell_type": "code",
   "execution_count": 104,
   "id": "a056955b",
   "metadata": {},
   "outputs": [],
   "source": [
    "inv_img=cv2.bitwise_not(gray_img)\n",
    "\n",
    "cv2.imshow('kohli',inv_img)\n",
    "\n",
    "cv2.waitKey(0)\n",
    "\n",
    "cv2.destroyAllWindows()"
   ]
  },
  {
   "cell_type": "markdown",
   "id": "bceeb7dd",
   "metadata": {},
   "source": [
    "## BLURING THE IMAGE"
   ]
  },
  {
   "cell_type": "code",
   "execution_count": 105,
   "id": "766738f3",
   "metadata": {},
   "outputs": [],
   "source": [
    "blur_img=cv2.GaussianBlur(inv_img,(15,15),0)\n",
    "\n",
    "cv2.imshow('kohli',blur_img)\n",
    "\n",
    "cv2.waitKey(0)\n",
    "\n",
    "cv2.destroyAllWindows()"
   ]
  },
  {
   "cell_type": "markdown",
   "id": "7e57d026",
   "metadata": {},
   "source": [
    "## INVERTING THE BLUR IMAGE"
   ]
  },
  {
   "cell_type": "code",
   "execution_count": 106,
   "id": "0faa50d7",
   "metadata": {},
   "outputs": [],
   "source": [
    "inv_blur_img=cv2.bitwise_not(blur_img)\n",
    "\n",
    "cv2.imshow('kohli',inv_blur_img)\n",
    "\n",
    "cv2.waitKey(0)\n",
    "\n",
    "cv2.destroyAllWindows()"
   ]
  },
  {
   "cell_type": "markdown",
   "id": "ea2d527e",
   "metadata": {},
   "source": [
    "## PENCIL SKETCH OF IMAGE"
   ]
  },
  {
   "cell_type": "code",
   "execution_count": 107,
   "id": "3e061265",
   "metadata": {},
   "outputs": [],
   "source": [
    "pen_img=cv2.divide(gray_img,inv_blur_img,scale=256.0)\n",
    "\n",
    "cv2.imshow('kohli',pen_img)\n",
    "\n",
    "cv2.waitKey(0)\n",
    "\n",
    "cv2.destroyAllWindows()"
   ]
  },
  {
   "cell_type": "code",
   "execution_count": null,
   "id": "40d3ef96",
   "metadata": {},
   "outputs": [],
   "source": []
  },
  {
   "cell_type": "code",
   "execution_count": null,
   "id": "15aa9697",
   "metadata": {},
   "outputs": [],
   "source": [
    "\n"
   ]
  },
  {
   "cell_type": "code",
   "execution_count": null,
   "id": "0351e1a8",
   "metadata": {},
   "outputs": [],
   "source": []
  }
 ],
 "metadata": {
  "kernelspec": {
   "display_name": "Python 3",
   "language": "python",
   "name": "python3"
  },
  "language_info": {
   "codemirror_mode": {
    "name": "ipython",
    "version": 3
   },
   "file_extension": ".py",
   "mimetype": "text/x-python",
   "name": "python",
   "nbconvert_exporter": "python",
   "pygments_lexer": "ipython3",
   "version": "3.9.5"
  }
 },
 "nbformat": 4,
 "nbformat_minor": 5
}
