{
 "cells": [
  {
   "cell_type": "markdown",
   "id": "735b29e9",
   "metadata": {},
   "source": [
    "## IMPORT LIBRARIES"
   ]
  },
  {
   "cell_type": "code",
   "execution_count": 387,
   "id": "696d8dc5",
   "metadata": {},
   "outputs": [],
   "source": [
    "from tensorflow.keras.models import Sequential\n",
    "from tensorflow.keras.layers import Dense,Activation,Flatten,Conv2D,MaxPooling2D,Dropout\n",
    "from tensorflow.keras.preprocessing.image import ImageDataGenerator\n",
    "import numpy as np"
   ]
  },
  {
   "cell_type": "markdown",
   "id": "05a3f4b9",
   "metadata": {},
   "source": [
    "## LOADING DATA"
   ]
  },
  {
   "cell_type": "code",
   "execution_count": 153,
   "id": "b9c43384",
   "metadata": {},
   "outputs": [],
   "source": [
    "train_dir=r'E:/EQUATION_SOLVER/extracted_images'\n",
    "\n",
    "train_datagen=ImageDataGenerator(rescale=1./255,\n",
    "                                 rotation_range=30,\n",
    "                                 shear_range=0.3,\n",
    "                                 zoom_range=0.3,\n",
    "                                 width_shift_range=0.4,\n",
    "                                 height_shift_range=0.4,\n",
    "                                 horizontal_flip=True,\n",
    "                                 fill_mode='nearest')"
   ]
  },
  {
   "cell_type": "markdown",
   "id": "4b9259fc",
   "metadata": {},
   "source": [
    "## PREPROCESSING THE IMAGE DATA"
   ]
  },
  {
   "cell_type": "code",
   "execution_count": 388,
   "id": "0c681a95",
   "metadata": {},
   "outputs": [
    {
     "name": "stdout",
     "output_type": "stream",
     "text": [
      "Found 153366 images belonging to 12 classes.\n"
     ]
    }
   ],
   "source": [
    "img_rows=28\n",
    "img_cols=28\n",
    "batch_size=32\n",
    "train_generator=train_datagen.flow_from_directory(train_dir,\n",
    "                                                  color_mode='grayscale',\n",
    "                                                  target_size=(img_rows,img_cols),\n",
    "                                                  batch_size=batch_size,\n",
    "                                                  class_mode='categorical')"
   ]
  },
  {
   "cell_type": "markdown",
   "id": "5eb927c8",
   "metadata": {},
   "source": [
    "## CREATING MODEL"
   ]
  },
  {
   "cell_type": "code",
   "execution_count": 155,
   "id": "ccf752e4",
   "metadata": {},
   "outputs": [],
   "source": [
    "from tensorflow.keras.optimizers import RMSprop\n",
    "model = Sequential()\n",
    "model.add(Conv2D(30, (5, 5), activation='relu',\n",
    "                        input_shape=(28, 28, 1)))\n",
    "model.add(MaxPooling2D((2, 2)))\n",
    "model.add(Conv2D(15, (3, 3), activation='relu'))\n",
    "model.add(MaxPooling2D((2, 2)))\n",
    "model.add(Dropout(0.2))\n",
    "model.add(Flatten())\n",
    "model.add(Dropout(0.5))\n",
    "model.add(Dense(128, activation='relu'))\n",
    "model.add(Dense(50, activation='relu'))\n",
    "model.add(Dense(12, activation='softmax'))\n",
    "model.compile(loss='categorical_crossentropy',\n",
    "              optimizer='adam',\n",
    "              metrics=['acc'])"
   ]
  },
  {
   "cell_type": "code",
   "execution_count": 156,
   "id": "505f9299",
   "metadata": {},
   "outputs": [
    {
     "name": "stdout",
     "output_type": "stream",
     "text": [
      "Model: \"sequential_1\"\n",
      "_________________________________________________________________\n",
      "Layer (type)                 Output Shape              Param #   \n",
      "=================================================================\n",
      "conv2d_2 (Conv2D)            (None, 24, 24, 30)        780       \n",
      "_________________________________________________________________\n",
      "max_pooling2d_2 (MaxPooling2 (None, 12, 12, 30)        0         \n",
      "_________________________________________________________________\n",
      "conv2d_3 (Conv2D)            (None, 10, 10, 15)        4065      \n",
      "_________________________________________________________________\n",
      "max_pooling2d_3 (MaxPooling2 (None, 5, 5, 15)          0         \n",
      "_________________________________________________________________\n",
      "dropout_2 (Dropout)          (None, 5, 5, 15)          0         \n",
      "_________________________________________________________________\n",
      "flatten_1 (Flatten)          (None, 375)               0         \n",
      "_________________________________________________________________\n",
      "dropout_3 (Dropout)          (None, 375)               0         \n",
      "_________________________________________________________________\n",
      "dense_3 (Dense)              (None, 128)               48128     \n",
      "_________________________________________________________________\n",
      "dense_4 (Dense)              (None, 50)                6450      \n",
      "_________________________________________________________________\n",
      "dense_5 (Dense)              (None, 12)                612       \n",
      "=================================================================\n",
      "Total params: 60,035\n",
      "Trainable params: 60,035\n",
      "Non-trainable params: 0\n",
      "_________________________________________________________________\n"
     ]
    }
   ],
   "source": [
    "model.summary()"
   ]
  },
  {
   "cell_type": "markdown",
   "id": "05fd48c8",
   "metadata": {},
   "source": [
    "## TRAINING THE MODEL"
   ]
  },
  {
   "cell_type": "code",
   "execution_count": 329,
   "id": "a150ee25",
   "metadata": {
    "scrolled": true
   },
   "outputs": [
    {
     "name": "stdout",
     "output_type": "stream",
     "text": [
      "Epoch 1/40\n",
      "1220/1220 [==============================] - 56s 46ms/step - loss: 1.4705 - acc: 0.4959\n",
      "Epoch 2/40\n",
      "1220/1220 [==============================] - 55s 45ms/step - loss: 1.4686 - acc: 0.4929\n",
      "Epoch 3/40\n",
      "1220/1220 [==============================] - 56s 45ms/step - loss: 1.4646 - acc: 0.5000 2s \n",
      "Epoch 4/40\n",
      "1220/1220 [==============================] - 56s 46ms/step - loss: 1.4706 - acc: 0.4946\n",
      "Epoch 5/40\n",
      "1220/1220 [==============================] - 55s 45ms/step - loss: 1.4614 - acc: 0.5007\n",
      "Epoch 6/40\n",
      "1220/1220 [==============================] - 55s 45ms/step - loss: 1.4628 - acc: 0.4999\n",
      "Epoch 7/40\n",
      "1220/1220 [==============================] - 56s 46ms/step - loss: 1.4574 - acc: 0.4999\n",
      "Epoch 8/40\n",
      "1220/1220 [==============================] - 57s 47ms/step - loss: 1.4650 - acc: 0.4972\n",
      "Epoch 9/40\n",
      "1220/1220 [==============================] - 55s 45ms/step - loss: 1.4600 - acc: 0.4947\n",
      "Epoch 10/40\n",
      "1220/1220 [==============================] - 55s 45ms/step - loss: 1.4584 - acc: 0.4977\n",
      "Epoch 11/40\n",
      "1220/1220 [==============================] - 56s 46ms/step - loss: 1.4531 - acc: 0.5040\n",
      "Epoch 12/40\n",
      "1220/1220 [==============================] - 56s 46ms/step - loss: 1.4520 - acc: 0.5018\n",
      "Epoch 13/40\n",
      "1220/1220 [==============================] - 57s 47ms/step - loss: 1.4527 - acc: 0.5008\n",
      "Epoch 14/40\n",
      "1220/1220 [==============================] - 59s 48ms/step - loss: 1.4491 - acc: 0.5021\n",
      "Epoch 15/40\n",
      "1220/1220 [==============================] - 55s 45ms/step - loss: 1.4586 - acc: 0.5005\n",
      "Epoch 16/40\n",
      "1220/1220 [==============================] - 55s 45ms/step - loss: 1.4578 - acc: 0.4968\n",
      "Epoch 17/40\n",
      "1220/1220 [==============================] - 55s 45ms/step - loss: 1.4505 - acc: 0.5026\n",
      "Epoch 18/40\n",
      "1220/1220 [==============================] - 55s 45ms/step - loss: 1.4569 - acc: 0.5009\n",
      "Epoch 19/40\n",
      "1220/1220 [==============================] - 57s 46ms/step - loss: 1.4555 - acc: 0.5012\n",
      "Epoch 20/40\n",
      "1220/1220 [==============================] - 56s 46ms/step - loss: 1.4512 - acc: 0.5011\n",
      "Epoch 21/40\n",
      "1220/1220 [==============================] - 55s 45ms/step - loss: 1.4552 - acc: 0.5000\n",
      "Epoch 22/40\n",
      "1220/1220 [==============================] - 55s 45ms/step - loss: 1.4492 - acc: 0.5019\n",
      "Epoch 23/40\n",
      "1220/1220 [==============================] - 55s 45ms/step - loss: 1.4457 - acc: 0.5071\n",
      "Epoch 24/40\n",
      "1220/1220 [==============================] - 55s 45ms/step - loss: 1.4450 - acc: 0.5067\n",
      "Epoch 25/40\n",
      "1220/1220 [==============================] - 55s 45ms/step - loss: 1.4400 - acc: 0.5044\n",
      "Epoch 26/40\n",
      "1220/1220 [==============================] - 52s 42ms/step - loss: 1.4500 - acc: 0.5006\n",
      "Epoch 27/40\n",
      "1220/1220 [==============================] - 55s 45ms/step - loss: 1.4337 - acc: 0.5091\n",
      "Epoch 28/40\n",
      "1220/1220 [==============================] - 55s 45ms/step - loss: 1.4464 - acc: 0.5063\n",
      "Epoch 29/40\n",
      "1220/1220 [==============================] - 55s 45ms/step - loss: 1.4438 - acc: 0.5048\n",
      "Epoch 30/40\n",
      "1220/1220 [==============================] - 56s 46ms/step - loss: 1.4362 - acc: 0.5048\n",
      "Epoch 31/40\n",
      "1220/1220 [==============================] - 56s 46ms/step - loss: 1.4374 - acc: 0.5060\n",
      "Epoch 32/40\n",
      "1220/1220 [==============================] - 57s 46ms/step - loss: 1.4314 - acc: 0.5115\n",
      "Epoch 33/40\n",
      "1220/1220 [==============================] - 54s 44ms/step - loss: 1.4505 - acc: 0.5043\n",
      "Epoch 34/40\n",
      "1220/1220 [==============================] - 54s 44ms/step - loss: 1.4375 - acc: 0.5078\n",
      "Epoch 35/40\n",
      "1220/1220 [==============================] - 55s 45ms/step - loss: 1.4418 - acc: 0.5057\n",
      "Epoch 36/40\n",
      "1220/1220 [==============================] - 55s 45ms/step - loss: 1.4420 - acc: 0.5067\n",
      "Epoch 37/40\n",
      "1220/1220 [==============================] - 55s 45ms/step - loss: 1.4344 - acc: 0.5067 0s - loss: 1.4333 - ac\n",
      "Epoch 38/40\n",
      "1220/1220 [==============================] - 55s 45ms/step - loss: 1.4425 - acc: 0.5093\n",
      "Epoch 39/40\n",
      "1220/1220 [==============================] - 55s 45ms/step - loss: 1.4445 - acc: 0.5038\n",
      "Epoch 40/40\n",
      "1220/1220 [==============================] - 56s 46ms/step - loss: 1.4286 - acc: 0.5096\n"
     ]
    }
   ],
   "source": [
    "history = model.fit(train_generator,steps_per_epoch=39061//32,epochs=40,verbose=1)"
   ]
  },
  {
   "cell_type": "markdown",
   "id": "473f1a99",
   "metadata": {},
   "source": [
    "## SAVING AND LOADING THE MODEL"
   ]
  },
  {
   "cell_type": "code",
   "execution_count": 389,
   "id": "501ceac6",
   "metadata": {},
   "outputs": [],
   "source": [
    "from tensorflow.keras.models import save_model,load_model\n",
    "\n",
    "save_model(model,'E:/LETS_GROW_MORE_TASKS/Equation_Solver.h5')\n",
    "\n",
    "model=load_model('E:/LETS_GROW_MORE_TASKS/Equation_Solver.h5')"
   ]
  },
  {
   "cell_type": "code",
   "execution_count": 390,
   "id": "7a5abb08",
   "metadata": {},
   "outputs": [],
   "source": [
    "import cv2\n",
    "\n",
    "import numpy as np\n",
    "\n",
    "import matplotlib.pyplot as plt"
   ]
  },
  {
   "cell_type": "markdown",
   "id": "b0ae32bb",
   "metadata": {},
   "source": [
    "## EVALUATING PERFORMANCE OF MODEL"
   ]
  },
  {
   "cell_type": "code",
   "execution_count": 394,
   "id": "a70d1bff",
   "metadata": {},
   "outputs": [
    {
     "data": {
      "text/plain": [
       "(909397,\n",
       " array([[0, 0, 0, ..., 0, 0, 0],\n",
       "        [0, 0, 0, ..., 0, 0, 0],\n",
       "        [0, 0, 0, ..., 0, 0, 0],\n",
       "        ...,\n",
       "        [0, 0, 0, ..., 0, 0, 0],\n",
       "        [0, 0, 0, ..., 0, 0, 0],\n",
       "        [0, 0, 0, ..., 0, 0, 0]], dtype=uint8),\n",
       " None,\n",
       " (0, 0, 1131, 811))"
      ]
     },
     "execution_count": 394,
     "metadata": {},
     "output_type": "execute_result"
    }
   ],
   "source": [
    "img=cv2.imread('E:/LETS_GROW_MORE_TASKS/f-11.jpg')\n",
    "\n",
    "img_copy=img.copy()\n",
    "\n",
    "gray=cv2.cvtColor(img,cv2.COLOR_BGR2GRAY)    \n",
    "\n",
    "thresh,binary=cv2.threshold(gray,0,255,cv2.THRESH_BINARY_INV+cv2.THRESH_OTSU)\n",
    "\n",
    "cv2.floodFill(binary,None,(0,0),0)"
   ]
  },
  {
   "cell_type": "markdown",
   "id": "4d3f27cf",
   "metadata": {},
   "source": [
    " ## DRAWING CONTOURS AND DETECTING TEXT"
   ]
  },
  {
   "cell_type": "code",
   "execution_count": 395,
   "id": "cbc57372",
   "metadata": {},
   "outputs": [],
   "source": [
    "f=[]\n",
    "contours,hierarchy=cv2.findContours(binary,cv2.RETR_EXTERNAL,cv2.CHAIN_APPROX_SIMPLE)\n",
    "\n",
    "for _, c in enumerate(contours):\n",
    "\n",
    "    # Get the bounding rectangle of the current contour:\n",
    "    boundRect = cv2.boundingRect(c)\n",
    "\n",
    "    # Get the bounding rectangle data:\n",
    "    rectX = boundRect[0]\n",
    "    rectY = boundRect[1]\n",
    "    rectWidth = boundRect[2]\n",
    "    rectHeight = boundRect[3]\n",
    "\n",
    "    # Estimate the bounding rect area:\n",
    "    rectArea = rectWidth * rectHeight\n",
    "\n",
    "    # Set a min area threshold\n",
    "    minArea = 10\n",
    "\n",
    "    # Filter blobs by area:\n",
    "    if rectArea > minArea:\n",
    "\n",
    "        # Draw bounding box:\n",
    "        color = (0, 255, 0)\n",
    "        cv2.rectangle(img_copy, (int(rectX), int(rectY)),\n",
    "                      (int(rectX + rectWidth), int(rectY + rectHeight)), color, 2)\n",
    "        cv2.imshow(\"Bounding Boxes\", img_copy)\n",
    "        # Crop bounding box:\n",
    "        currentCrop = img[rectY:rectY+rectHeight,rectX:rectX+rectWidth]\n",
    "        f.append(currentCrop)\n",
    "        cv2.imshow(\"Current Crop\", currentCrop)\n",
    "        cv2.waitKey(0)\n",
    "        cv2.destroyAllWindows()"
   ]
  },
  {
   "cell_type": "code",
   "execution_count": 396,
   "id": "17e87238",
   "metadata": {},
   "outputs": [],
   "source": [
    "classes=['-','+','0','1','2','3','4','5','6','7','8','9']"
   ]
  },
  {
   "cell_type": "code",
   "execution_count": 397,
   "id": "8162a6dc",
   "metadata": {},
   "outputs": [],
   "source": [
    "cv2.imshow('',f[2])\n",
    "\n",
    "cv2.waitKey(0)\n",
    "\n",
    "cv2.destroyAllWindows()"
   ]
  },
  {
   "cell_type": "code",
   "execution_count": 398,
   "id": "6df783d8",
   "metadata": {},
   "outputs": [
    {
     "data": {
      "image/png": "[encoded data removed]",
      "text/plain": [
       "<Figure size 432x288 with 1 Axes>"
      ]
     },
     "metadata": {
      "needs_background": "light"
     },
     "output_type": "display_data"
    }
   ],
   "source": [
    "plt.imshow(f[2])\n",
    "\n",
    "\n",
    "plt.show()"
   ]
  },
  {
   "cell_type": "code",
   "execution_count": 399,
   "id": "39718c60",
   "metadata": {},
   "outputs": [
    {
     "name": "stdout",
     "output_type": "stream",
     "text": [
      "Final Result : 2\n"
     ]
    }
   ],
   "source": [
    "final=[]\n",
    "for i in range(0,2):\n",
    "    f[i]=cv2.resize(f[i],(28,28))\n",
    "    f[i]=cv2.cvtColor(f[i],cv2.COLOR_BGR2GRAY)\n",
    "    f[i]=np.expand_dims(f[i],2)\n",
    "    final.append(classes[np.argmax(model.predict(np.expand_dims(f[i],axis=0)))])\n",
    "print('Final Result : {}'.format(int(final[0])+int(final[1])))\n",
    "    \n",
    "    \n",
    "    "
   ]
  },
  {
   "cell_type": "code",
   "execution_count": null,
   "id": "da84b5c5",
   "metadata": {},
   "outputs": [],
   "source": []
  },
  {
   "cell_type": "code",
   "execution_count": null,
   "id": "bf8b896d",
   "metadata": {},
   "outputs": [],
   "source": []
  },
  {
   "cell_type": "code",
   "execution_count": null,
   "id": "ea1a60b9",
   "metadata": {},
   "outputs": [],
   "source": []
  },
  {
   "cell_type": "code",
   "execution_count": null,
   "id": "901b6583",
   "metadata": {},
   "outputs": [],
   "source": []
  },
  {
   "cell_type": "code",
   "execution_count": null,
   "id": "5ac4245f",
   "metadata": {},
   "outputs": [],
   "source": []
  },
  {
   "cell_type": "code",
   "execution_count": null,
   "id": "ba9fc06b",
   "metadata": {},
   "outputs": [],
   "source": [
    "\n",
    "    \n",
    "    "
   ]
  },
  {
   "cell_type": "code",
   "execution_count": null,
   "id": "23de617d",
   "metadata": {},
   "outputs": [],
   "source": []
  },
  {
   "cell_type": "code",
   "execution_count": null,
   "id": "b1cffb80",
   "metadata": {},
   "outputs": [],
   "source": []
  }
 ],
 "metadata": {
  "kernelspec": {
   "display_name": "Python 3",
   "language": "python",
   "name": "python3"
  },
  "language_info": {
   "codemirror_mode": {
    "name": "ipython",
    "version": 3
   },
   "file_extension": ".py",
   "mimetype": "text/x-python",
   "name": "python",
   "nbconvert_exporter": "python",
   "pygments_lexer": "ipython3",
   "version": "3.9.5"
  }
 },
 "nbformat": 4,
 "nbformat_minor": 5
}
